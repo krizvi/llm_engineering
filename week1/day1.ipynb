{
 "cells": [
  {
   "cell_type": "markdown",
   "id": "d15d8294-3328-4e07-ad16-8a03e9bbfdb9",
   "metadata": {},
   "source": [
    "# YOUR FIRST LAB\n",
    "### Please read this section. This is valuable to get you prepared, even if it's a long read -- it's important stuff.\n",
    "\n",
    "## Your first Frontier LLM Project\n",
    "\n",
    "Let's build a useful LLM solution - in a matter of minutes.\n",
    "\n",
    "By the end of this course, you will have built an autonomous Agentic AI solution with 7 agents that collaborate to solve a business problem. All in good time! We will start with something smaller...\n",
    "\n",
    "Our goal is to code a new kind of Web Browser. Give it a URL, and it will respond with a summary. The Reader's Digest of the internet!!\n",
    "\n",
    "Before starting, you should have completed the setup for [PC](../SETUP-PC.md) or [Mac](../SETUP-mac.md) and you hopefully launched this jupyter lab from within the project root directory, with your environment activated.\n",
    "\n",
    "## If you're new to Jupyter Lab\n",
    "\n",
    "Welcome to the wonderful world of Data Science experimentation! Once you've used Jupyter Lab, you'll wonder how you ever lived without it. Simply click in each \"cell\" with code in it, such as the cell immediately below this text, and hit Shift+Return to execute that cell. As you wish, you can add a cell with the + button in the toolbar, and print values of variables, or try out variations.  \n",
    "\n",
    "I've written a notebook called [Guide to Jupyter](Guide%20to%20Jupyter.ipynb) to help you get more familiar with Jupyter Labs, including adding Markdown comments, using `!` to run shell commands, and `tqdm` to show progress.\n",
    "\n",
    "## If you're new to the Command Line\n",
    "\n",
    "Please see these excellent guides: [Command line on PC](https://chatgpt.com/share/67b0acea-ba38-8012-9c34-7a2541052665) and [Command line on Mac](https://chatgpt.com/canvas/shared/67b0b10c93a081918210723867525d2b).  \n",
    "\n",
    "## If you'd prefer to work in IDEs\n",
    "\n",
    "If you're more comfortable in IDEs like VSCode or Pycharm, they both work great with these lab notebooks too.  \n",
    "If you'd prefer to work in VSCode, [here](https://chatgpt.com/share/676f2e19-c228-8012-9911-6ca42f8ed766) are instructions from an AI friend on how to configure it for the course.\n",
    "\n",
    "## If you'd like to brush up your Python\n",
    "\n",
    "I've added a notebook called [Intermediate Python](Intermediate%20Python.ipynb) to get you up to speed. But you should give it a miss if you already have a good idea what this code does:    \n",
    "`yield from {book.get(\"author\") for book in books if book.get(\"author\")}`\n",
    "\n",
    "## I am here to help\n",
    "\n",
    "If you have any problems at all, please do reach out.  \n",
    "I'm available through the platform, or at ed@edwarddonner.com, or at https://www.linkedin.com/in/eddonner/ if you'd like to connect (and I love connecting!)  \n",
    "And this is new to me, but I'm also trying out X/Twitter at [@edwarddonner](https://x.com/edwarddonner) - if you're on X, please show me how it's done 😂  \n",
    "\n",
    "## More troubleshooting\n",
    "\n",
    "Please see the [troubleshooting](troubleshooting.ipynb) notebook in this folder to diagnose and fix common problems. At the very end of it is a diagnostics script with some useful debug info.\n",
    "\n",
    "## If this is old hat!\n",
    "\n",
    "If you're already comfortable with today's material, please hang in there; you can move swiftly through the first few labs - we will get much more in depth as the weeks progress.\n",
    "\n",
    "<table style=\"margin: 0; text-align: left;\">\n",
    "    <tr>\n",
    "        <td style=\"width: 150px; height: 150px; vertical-align: middle;\">\n",
    "            <img src=\"../important.jpg\" width=\"150\" height=\"150\" style=\"display: block;\" />\n",
    "        </td>\n",
    "        <td>\n",
    "            <h2 style=\"color:#900;\">Please read - important note</h2>\n",
    "            <span style=\"color:#900;\">The way I collaborate with you may be different to other courses you've taken. I prefer not to type code while you watch. Rather, I execute Jupyter Labs, like this, and give you an intuition for what's going on. My suggestion is that you carefully execute this yourself, <b>after</b> watching the lecture. Add print statements to understand what's going on, and then come up with your own variations. If you have a Github account, use this to showcase your variations. Not only is this essential practice, but it demonstrates your skills to others, including perhaps future clients or employers...</span>\n",
    "        </td>\n",
    "    </tr>\n",
    "</table>\n",
    "<table style=\"margin: 0; text-align: left;\">\n",
    "    <tr>\n",
    "        <td style=\"width: 150px; height: 150px; vertical-align: middle;\">\n",
    "            <img src=\"../resources.jpg\" width=\"150\" height=\"150\" style=\"display: block;\" />\n",
    "        </td>\n",
    "        <td>\n",
    "            <h2 style=\"color:#f71;\">Treat these labs as a resource</h2>\n",
    "            <span style=\"color:#f71;\">I push updates to the code regularly. When people ask questions or have problems, I incorporate it in the code, adding more examples or improved commentary. As a result, you'll notice that the code below isn't identical to the videos. Everything from the videos is here; but in addition, I've added more steps and better explanations, and occasionally added new models like DeepSeek. Consider this like an interactive book that accompanies the lectures.\n",
    "            </span>\n",
    "        </td>\n",
    "    </tr>\n",
    "</table>\n",
    "<table style=\"margin: 0; text-align: left;\">\n",
    "    <tr>\n",
    "        <td style=\"width: 150px; height: 150px; vertical-align: middle;\">\n",
    "            <img src=\"../business.jpg\" width=\"150\" height=\"150\" style=\"display: block;\" />\n",
    "        </td>\n",
    "        <td>\n",
    "            <h2 style=\"color:#181;\">Business value of these exercises</h2>\n",
    "            <span style=\"color:#181;\">A final thought. While I've designed these notebooks to be educational, I've also tried to make them enjoyable. We'll do fun things like have LLMs tell jokes and argue with each other. But fundamentally, my goal is to teach skills you can apply in business. I'll explain business implications as we go, and it's worth keeping this in mind: as you build experience with models and techniques, think of ways you could put this into action at work today. Please do contact me if you'd like to discuss more or if you have ideas to bounce off me.</span>\n",
    "        </td>\n",
    "    </tr>\n",
    "</table>"
   ]
  },
  {
   "cell_type": "code",
   "id": "4e2a9393-7767-488e-a8bf-27c12dca35bd",
   "metadata": {
    "ExecuteTime": {
     "end_time": "2025-03-22T11:19:44.356904Z",
     "start_time": "2025-03-22T11:19:44.353294Z"
    }
   },
   "source": [
    "# imports\n",
    "\n",
    "import os\n",
    "import requests\n",
    "from dotenv import load_dotenv\n",
    "from bs4 import BeautifulSoup\n",
    "from IPython.display import Markdown, display\n",
    "from openai import OpenAI\n",
    "\n",
    "# If you get an error running this cell, then please head over to the troubleshooting notebook!"
   ],
   "outputs": [],
   "execution_count": 2
  },
  {
   "cell_type": "markdown",
   "id": "6900b2a8-6384-4316-8aaa-5e519fca4254",
   "metadata": {},
   "source": [
    "# Connecting to OpenAI\n",
    "\n",
    "The next cell is where we load in the environment variables in your `.env` file and connect to OpenAI.\n",
    "\n",
    "## Troubleshooting if you have problems:\n",
    "\n",
    "Head over to the [troubleshooting](troubleshooting.ipynb) notebook in this folder for step by step code to identify the root cause and fix it!\n",
    "\n",
    "If you make a change, try restarting the \"Kernel\" (the python process sitting behind this notebook) by Kernel menu >> Restart Kernel and Clear Outputs of All Cells. Then try this notebook again, starting at the top.\n",
    "\n",
    "Or, contact me! Message me or email ed@edwarddonner.com and we will get this to work.\n",
    "\n",
    "Any concerns about API costs? See my notes in the README - costs should be minimal, and you can control it at every point. You can also use Ollama as a free alternative, which we discuss during Day 2."
   ]
  },
  {
   "cell_type": "code",
   "id": "7b87cadb-d513-4303-baee-a37b6f938e4d",
   "metadata": {
    "ExecuteTime": {
     "end_time": "2025-03-22T11:20:05.844013Z",
     "start_time": "2025-03-22T11:20:05.839003Z"
    }
   },
   "source": [
    "# Load environment variables in a file called .env\n",
    "\n",
    "load_dotenv(override=True)\n",
    "api_key = os.getenv('OPENAI_API_KEY')\n",
    "\n",
    "# Check the key\n",
    "\n",
    "if not api_key:\n",
    "    print(\"No API key was found - please head over to the troubleshooting notebook in this folder to identify & fix!\")\n",
    "elif not api_key.startswith(\"sk-proj-\"):\n",
    "    print(\"An API key was found, but it doesn't start sk-proj-; please check you're using the right key - see troubleshooting notebook\")\n",
    "elif api_key.strip() != api_key:\n",
    "    print(\"An API key was found, but it looks like it might have space or tab characters at the start or end - please remove them - see troubleshooting notebook\")\n",
    "else:\n",
    "    print(\"API key found and looks good so far!\")\n"
   ],
   "outputs": [
    {
     "name": "stdout",
     "output_type": "stream",
     "text": [
      "API key found and looks good so far!\n"
     ]
    }
   ],
   "execution_count": 3
  },
  {
   "cell_type": "code",
   "id": "019974d9-f3ad-4a8a-b5f9-0a3719aea2d3",
   "metadata": {
    "ExecuteTime": {
     "end_time": "2025-03-22T11:20:09.907711Z",
     "start_time": "2025-03-22T11:20:09.883756Z"
    }
   },
   "source": [
    "openai = OpenAI()\n",
    "\n",
    "# If this doesn't work, try Kernel menu >> Restart Kernel and Clear Outputs Of All Cells, then run the cells from the top of this notebook down.\n",
    "# If it STILL doesn't work (horrors!) then please see the Troubleshooting notebook in this folder for full instructions"
   ],
   "outputs": [],
   "execution_count": 4
  },
  {
   "cell_type": "markdown",
   "id": "442fc84b-0815-4f40-99ab-d9a5da6bda91",
   "metadata": {},
   "source": [
    "# Let's make a quick call to a Frontier model to get started, as a preview!"
   ]
  },
  {
   "cell_type": "code",
   "id": "a58394bf-1e45-46af-9bfd-01e24da6f49a",
   "metadata": {
    "ExecuteTime": {
     "end_time": "2025-03-22T11:24:42.690179Z",
     "start_time": "2025-03-22T11:24:41.297255Z"
    }
   },
   "source": [
    "# To give you a preview -- calling OpenAI with these messages is this easy. Any problems, head over to the Troubleshooting notebook.\n",
    "\n",
    "message = \"Hello, GPT! This is my first ever message to you! Hi!\"\n",
    "response = openai.chat.completions.create(model=\"gpt-4o-mini\", messages=[{\"role\":\"user\", \"content\":message}])\n",
    "print(response.choices[0].message.content)"
   ],
   "outputs": [
    {
     "name": "stdout",
     "output_type": "stream",
     "text": [
      "Hello! Welcome! I'm glad you're here and excited to chat with you. How can I assist you today?\n"
     ]
    }
   ],
   "execution_count": 5
  },
  {
   "cell_type": "markdown",
   "id": "2aa190e5-cb31-456a-96cc-db109919cd78",
   "metadata": {},
   "source": [
    "## OK onwards with our first project"
   ]
  },
  {
   "cell_type": "code",
   "id": "c5e793b2-6775-426a-a139-4848291d0463",
   "metadata": {
    "ExecuteTime": {
     "end_time": "2025-03-22T11:24:59.793784Z",
     "start_time": "2025-03-22T11:24:59.789731Z"
    }
   },
   "source": [
    "# A class to represent a Webpage\n",
    "# If you're not familiar with Classes, check out the \"Intermediate Python\" notebook\n",
    "\n",
    "# Some websites need you to use proper headers when fetching them:\n",
    "headers = {\n",
    " \"User-Agent\": \"Mozilla/5.0 (Windows NT 10.0; Win64; x64) AppleWebKit/537.36 (KHTML, like Gecko) Chrome/117.0.0.0 Safari/537.36\"\n",
    "}\n",
    "\n",
    "class Website:\n",
    "\n",
    "    def __init__(self, url):\n",
    "        \"\"\"\n",
    "        Create this Website object from the given url using the BeautifulSoup library\n",
    "        \"\"\"\n",
    "        self.url = url\n",
    "        response = requests.get(url, headers=headers)\n",
    "        soup = BeautifulSoup(response.content, 'html.parser')\n",
    "        self.title = soup.title.string if soup.title else \"No title found\"\n",
    "        for irrelevant in soup.body([\"script\", \"style\", \"img\", \"input\"]):\n",
    "            irrelevant.decompose()\n",
    "        self.text = soup.body.get_text(separator=\"\\n\", strip=True)"
   ],
   "outputs": [],
   "execution_count": 6
  },
  {
   "cell_type": "code",
   "id": "ae29b5d1-4bd8-4d0e-a850-0bba813f9a36",
   "metadata": {
    "ExecuteTime": {
     "end_time": "2025-03-22T11:25:02.204556Z",
     "start_time": "2025-03-22T11:25:02.049043Z"
    }
   },
   "source": [
    "# Let's try one out. Change the website and add print statements to follow along.\n",
    "\n",
    "kr = Website(\"http://khalidrizvi.com\")\n",
    "print(kr.title)\n",
    "print(kr.text)"
   ],
   "outputs": [
    {
     "name": "stdout",
     "output_type": "stream",
     "text": [
      "Khalid Portfolio\n",
      "Khalid Rizvi\n",
      "703-656-6394 • khalid.rizvi@icloud.com\n",
      "Excellence through innovation.\n",
      "I am a dynamic and results-driven Software Consultant with an esteemed track record of spearheading intricate system diagnostics in both traditional on-premises and sophisticated AWS cloud platforms. My niche is rooted in seamless 'lift and shift' migrations, with a specialty in infusing modern vitality into systems through cloud-native paradigms such as the strangler pattern.\n",
      "Distinguished not just by my technical acumen, I am deeply passionate about mentoring and elevating teams, championing expedited application engineering, and devising strategies that dramatically trim development cycles and financial overheads. At the heart of my ethos lies an unwavering commitment to client-centric excellence, and an aptitude for fine-tuning software constructs to resonate with both corporate and individual users.\n",
      "Key Strengths:\n",
      "Master coder with specialized prowess in GoLang, Java, and JavaScript.\n",
      "Stellar full-stack development finesse using Vue3.js for immersive SPAs and Nuxt.js for optimized SSR.\n",
      "Champion of Data Migration & Microservices Architecture.\n",
      "Cloud Wizardry: Acclaimed for 'Lift & Shift' from on-premises to AWS, combined with a flair for innovation via cloud-native methodologies.\n",
      "AWS Suite Maestro: Comprehensive command over Lambda, SQS, SNS, Kinesis, EC2, Elasticsearch, S3, MongoDB, RDS, RedShift, and more.\n",
      "DevOps & CI/CD Virtuoso: Adept with Jenkins, Docker, OpenShift, AWS toolkit, Ansible, and Azure DevOps.\n",
      "Security Maven: Deep-rooted expertise in Identity Management frameworks like Auth, OpenID & SAML.\n",
      "Infrastructure Visionary: Proficient harnessing Terraform, AWS SAM, and Ansible.\n",
      "Monitoring & Oversight: Skilled with tools such as AWS CloudWatch and Jira.\n",
      "In light of my robust expertise and accomplishments, I am currently seeking an unparalleled opportunity to lead Full Stack Designing and development projects. Specifically, I am enthusiastic about applications that amalgamate a robust AI engine backend, orchestrated in GoLang, complemented by a SPA Vue3JS frontend leveraging NuxtJS for SSR on a Node.js server. If you're looking for someone with my unique blend of skills and vision to drive transformative digital initiatives, let's connect.\n",
      "Contact me\n",
      "Social Links\n",
      "Github\n",
      ": https://github.com/krizvi\n",
      "LinkedIn\n",
      ": https://www.linkedin.com/in/khalidrizvi\n",
      "Website\n",
      ": http://khalidrizvi.com\n",
      "Made by\n",
      "krizvi\n",
      "2023-08-11 15:45\n"
     ]
    }
   ],
   "execution_count": 7
  },
  {
   "cell_type": "markdown",
   "id": "6a478a0c-2c53-48ff-869c-4d08199931e1",
   "metadata": {},
   "source": [
    "## Types of prompts\n",
    "\n",
    "You may know this already - but if not, you will get very familiar with it!\n",
    "\n",
    "Models like GPT4o have been trained to receive instructions in a particular way.\n",
    "\n",
    "They expect to receive:\n",
    "\n",
    "**A system prompt** that tells them what task they are performing and what tone they should use\n",
    "\n",
    "**A user prompt** -- the conversation starter that they should reply to"
   ]
  },
  {
   "cell_type": "code",
   "id": "abdb8417-c5dc-44bc-9bee-2e059d162699",
   "metadata": {
    "ExecuteTime": {
     "end_time": "2025-03-22T11:25:06.038246Z",
     "start_time": "2025-03-22T11:25:06.035328Z"
    }
   },
   "source": [
    "# Define our system prompt - you can experiment with this later, changing the last sentence to 'Respond in markdown in Spanish.\"\n",
    "\n",
    "system_prompt = \"You are an assistant that analyzes the contents of a website \\\n",
    "and provides a short summary, ignoring text that might be navigation related. \\\n",
    "Respond in markdown.\""
   ],
   "outputs": [],
   "execution_count": 8
  },
  {
   "cell_type": "code",
   "id": "f0275b1b-7cfe-4f9d-abfa-7650d378da0c",
   "metadata": {
    "ExecuteTime": {
     "end_time": "2025-03-22T11:25:07.177809Z",
     "start_time": "2025-03-22T11:25:07.174946Z"
    }
   },
   "source": [
    "# A function that writes a User Prompt that asks for summaries of websites:\n",
    "\n",
    "def user_prompt_for(website):\n",
    "    user_prompt = f\"You are looking at a website titled {website.title}\"\n",
    "    user_prompt += \"\\nThe contents of this website is as follows; \\\n",
    "please provide a short summary of this website in markdown. \\\n",
    "If it includes news or announcements, then summarize these too.\\n\\n\"\n",
    "    user_prompt += website.text\n",
    "    return user_prompt"
   ],
   "outputs": [],
   "execution_count": 9
  },
  {
   "cell_type": "code",
   "id": "26448ec4-5c00-4204-baec-7df91d11ff2e",
   "metadata": {
    "ExecuteTime": {
     "end_time": "2025-03-22T11:25:09.133414Z",
     "start_time": "2025-03-22T11:25:09.130287Z"
    }
   },
   "source": [
    "print(user_prompt_for(kr))"
   ],
   "outputs": [
    {
     "name": "stdout",
     "output_type": "stream",
     "text": [
      "You are looking at a website titled Khalid Portfolio\n",
      "The contents of this website is as follows; please provide a short summary of this website in markdown. If it includes news or announcements, then summarize these too.\n",
      "\n",
      "Khalid Rizvi\n",
      "703-656-6394 • khalid.rizvi@icloud.com\n",
      "Excellence through innovation.\n",
      "I am a dynamic and results-driven Software Consultant with an esteemed track record of spearheading intricate system diagnostics in both traditional on-premises and sophisticated AWS cloud platforms. My niche is rooted in seamless 'lift and shift' migrations, with a specialty in infusing modern vitality into systems through cloud-native paradigms such as the strangler pattern.\n",
      "Distinguished not just by my technical acumen, I am deeply passionate about mentoring and elevating teams, championing expedited application engineering, and devising strategies that dramatically trim development cycles and financial overheads. At the heart of my ethos lies an unwavering commitment to client-centric excellence, and an aptitude for fine-tuning software constructs to resonate with both corporate and individual users.\n",
      "Key Strengths:\n",
      "Master coder with specialized prowess in GoLang, Java, and JavaScript.\n",
      "Stellar full-stack development finesse using Vue3.js for immersive SPAs and Nuxt.js for optimized SSR.\n",
      "Champion of Data Migration & Microservices Architecture.\n",
      "Cloud Wizardry: Acclaimed for 'Lift & Shift' from on-premises to AWS, combined with a flair for innovation via cloud-native methodologies.\n",
      "AWS Suite Maestro: Comprehensive command over Lambda, SQS, SNS, Kinesis, EC2, Elasticsearch, S3, MongoDB, RDS, RedShift, and more.\n",
      "DevOps & CI/CD Virtuoso: Adept with Jenkins, Docker, OpenShift, AWS toolkit, Ansible, and Azure DevOps.\n",
      "Security Maven: Deep-rooted expertise in Identity Management frameworks like Auth, OpenID & SAML.\n",
      "Infrastructure Visionary: Proficient harnessing Terraform, AWS SAM, and Ansible.\n",
      "Monitoring & Oversight: Skilled with tools such as AWS CloudWatch and Jira.\n",
      "In light of my robust expertise and accomplishments, I am currently seeking an unparalleled opportunity to lead Full Stack Designing and development projects. Specifically, I am enthusiastic about applications that amalgamate a robust AI engine backend, orchestrated in GoLang, complemented by a SPA Vue3JS frontend leveraging NuxtJS for SSR on a Node.js server. If you're looking for someone with my unique blend of skills and vision to drive transformative digital initiatives, let's connect.\n",
      "Contact me\n",
      "Social Links\n",
      "Github\n",
      ": https://github.com/krizvi\n",
      "LinkedIn\n",
      ": https://www.linkedin.com/in/khalidrizvi\n",
      "Website\n",
      ": http://khalidrizvi.com\n",
      "Made by\n",
      "krizvi\n",
      "2023-08-11 15:45\n"
     ]
    }
   ],
   "execution_count": 10
  },
  {
   "cell_type": "markdown",
   "id": "8722f973-7c18-4065-933f-03961e80965f",
   "metadata": {},
   "source": [
    "## Messages\n",
    "\n",
    "The API from OpenAI expects to receive messages in a particular structure.\n",
    "Many of the other APIs share this structure:\n",
    "\n",
    "```\n",
    "[\n",
    "    {\"role\": \"system\", \"content\": \"system message goes here\"},\n",
    "    {\"role\": \"user\", \"content\": \"user message goes here\"}\n",
    "]\n",
    "\n",
    "To give you a preview, the next 2 cells make a rather simple call - we won't stretch the mighty GPT (yet!)"
   ]
  },
  {
   "cell_type": "code",
   "execution_count": 20,
   "id": "f25dcd35-0cd0-4235-9f64-ac37ed9eaaa5",
   "metadata": {},
   "outputs": [],
   "source": [
    "messages = [\n",
    "    {\"role\": \"system\", \"content\": \"You are a English Professor, specializing in english sentences\"},\n",
    "    {\"role\": \"user\", \"content\": \"define panangram. give example of the mostly used panangram in english language\"}\n",
    "]"
   ]
  },
  {
   "cell_type": "code",
   "execution_count": 21,
   "id": "21ed95c5-7001-47de-a36d-1d6673b403ce",
   "metadata": {},
   "outputs": [
    {
     "name": "stdout",
     "output_type": "stream",
     "text": [
      "A pangram is a sentence that contains every letter of the alphabet at least once. The most commonly used pangram in the English language is \"The quick brown fox jumps over the lazy dog.\" This sentence is often used for typing practice and font testing because it effectively showcases all 26 letters of the English alphabet.\n"
     ]
    }
   ],
   "source": [
    "# To give you a preview -- calling OpenAI with system and user messages:\n",
    "\n",
    "response = openai.chat.completions.create(model=\"gpt-4o-mini\", messages=messages)\n",
    "print(response.choices[0].message.content)"
   ]
  },
  {
   "cell_type": "markdown",
   "id": "d06e8d78-ce4c-4b05-aa8e-17050c82bb47",
   "metadata": {},
   "source": [
    "## And now let's build useful messages for GPT-4o-mini, using a function"
   ]
  },
  {
   "cell_type": "code",
   "execution_count": 22,
   "id": "0134dfa4-8299-48b5-b444-f2a8c3403c88",
   "metadata": {},
   "outputs": [],
   "source": [
    "# See how this function creates exactly the format above\n",
    "\n",
    "def messages_for(website):\n",
    "    return [\n",
    "        {\"role\": \"system\", \"content\": system_prompt},\n",
    "        {\"role\": \"user\", \"content\": user_prompt_for(website)}\n",
    "    ]"
   ]
  },
  {
   "cell_type": "code",
   "execution_count": 23,
   "id": "36478464-39ee-485c-9f3f-6a4e458dbc9c",
   "metadata": {},
   "outputs": [
    {
     "data": {
      "text/plain": [
       "[{'role': 'system',\n",
       "  'content': 'You are an assistant that analyzes the contents of a website and provides a short summary, ignoring text that might be navigation related. Respond in markdown.'},\n",
       " {'role': 'user',\n",
       "  'content': \"You are looking at a website titled Khalid Portfolio\\nThe contents of this website is as follows; please provide a short summary of this website in markdown. If it includes news or announcements, then summarize these too.\\n\\nKhalid Rizvi\\n703-656-6394 • khalid.rizvi@icloud.com\\nExcellence through innovation.\\nI am a dynamic and results-driven Software Consultant with an esteemed track record of spearheading intricate system diagnostics in both traditional on-premises and sophisticated AWS cloud platforms. My niche is rooted in seamless 'lift and shift' migrations, with a specialty in infusing modern vitality into systems through cloud-native paradigms such as the strangler pattern.\\nDistinguished not just by my technical acumen, I am deeply passionate about mentoring and elevating teams, championing expedited application engineering, and devising strategies that dramatically trim development cycles and financial overheads. At the heart of my ethos lies an unwavering commitment to client-centric excellence, and an aptitude for fine-tuning software constructs to resonate with both corporate and individual users.\\nKey Strengths:\\nMaster coder with specialized prowess in GoLang, Java, and JavaScript.\\nStellar full-stack development finesse using Vue3.js for immersive SPAs and Nuxt.js for optimized SSR.\\nChampion of Data Migration & Microservices Architecture.\\nCloud Wizardry: Acclaimed for 'Lift & Shift' from on-premises to AWS, combined with a flair for innovation via cloud-native methodologies.\\nAWS Suite Maestro: Comprehensive command over Lambda, SQS, SNS, Kinesis, EC2, Elasticsearch, S3, MongoDB, RDS, RedShift, and more.\\nDevOps & CI/CD Virtuoso: Adept with Jenkins, Docker, OpenShift, AWS toolkit, Ansible, and Azure DevOps.\\nSecurity Maven: Deep-rooted expertise in Identity Management frameworks like Auth, OpenID & SAML.\\nInfrastructure Visionary: Proficient harnessing Terraform, AWS SAM, and Ansible.\\nMonitoring & Oversight: Skilled with tools such as AWS CloudWatch and Jira.\\nIn light of my robust expertise and accomplishments, I am currently seeking an unparalleled opportunity to lead Full Stack Designing and development projects. Specifically, I am enthusiastic about applications that amalgamate a robust AI engine backend, orchestrated in GoLang, complemented by a SPA Vue3JS frontend leveraging NuxtJS for SSR on a Node.js server. If you're looking for someone with my unique blend of skills and vision to drive transformative digital initiatives, let's connect.\\nContact me\\nSocial Links\\nGithub\\n: https://github.com/krizvi\\nLinkedIn\\n: https://www.linkedin.com/in/khalidrizvi\\nWebsite\\n: http://khalidrizvi.com\\nMade by\\nkrizvi\\n2023-08-11 15:45\"}]"
      ]
     },
     "execution_count": 23,
     "metadata": {},
     "output_type": "execute_result"
    }
   ],
   "source": [
    "# Try this out, and then try for a few more websites\n",
    "\n",
    "messages_for(kr)"
   ]
  },
  {
   "cell_type": "markdown",
   "id": "16f49d46-bf55-4c3e-928f-68fc0bf715b0",
   "metadata": {},
   "source": [
    "## Time to bring it together - the API for OpenAI is very simple!"
   ]
  },
  {
   "cell_type": "code",
   "execution_count": 24,
   "id": "905b9919-aba7-45b5-ae65-81b3d1d78e34",
   "metadata": {},
   "outputs": [],
   "source": [
    "# And now: call the OpenAI API. You will get very familiar with this!\n",
    "\n",
    "def summarize(url):\n",
    "    website = Website(url)\n",
    "    response = openai.chat.completions.create(\n",
    "        model = \"gpt-4o-mini\",\n",
    "        messages = messages_for(website)\n",
    "    )\n",
    "    return response.choices[0].message.content"
   ]
  },
  {
   "cell_type": "code",
   "execution_count": 25,
   "id": "05e38d41-dfa4-4b20-9c96-c46ea75d9fb5",
   "metadata": {},
   "outputs": [
    {
     "data": {
      "text/plain": [
       "'# Soulful Connections\\n\\nSoulful Connections is a platform focused on exploring and nurturing deep romantic relationships. The website emphasizes that true love is a journey of the soul, echoing sentiments like that of Rumi, who believes that lovers are inherently connected.\\n\\n### Main Features\\n- **Journeys of Hearts**: A section dedicated to discovering profound connections between souls.\\n- **Registration and Login**: Options for users to register and log in for personalized experiences.\\n- **Newsletter Signup**: Users can subscribe to receive updates, news, and special offers.\\n\\nThe site caters to those seeking meaningful relationships and offers insights into the soulful journey toward love.'"
      ]
     },
     "execution_count": 25,
     "metadata": {},
     "output_type": "execute_result"
    }
   ],
   "source": [
    "summarize(\"https://www.zindagipartners.com\")"
   ]
  },
  {
   "cell_type": "code",
   "execution_count": 26,
   "id": "3d926d59-450e-4609-92ba-2d6f244f1342",
   "metadata": {},
   "outputs": [],
   "source": [
    "# A function to display this nicely in the Jupyter output, using markdown\n",
    "\n",
    "def display_summary(url):\n",
    "    summary = summarize(url)\n",
    "    display(Markdown(summary))"
   ]
  },
  {
   "cell_type": "code",
   "execution_count": 27,
   "id": "3018853a-445f-41ff-9560-d925d1774b2f",
   "metadata": {},
   "outputs": [
    {
     "data": {
      "text/markdown": [
       "# Soulful Connections\n",
       "\n",
       "Soulful Connections is a platform dedicated to exploring and fostering deep, meaningful relationships through a spiritual lens. The website emphasizes the concept of profound connections as a journey of the heart, inspired by the wisdom of Rumi: \"Lovers don't finally meet somewhere. They're in each other all along.\"\n",
       "\n",
       "## Services\n",
       "The site offers various services aimed at guiding individuals and couples in their quest for soulful connections. \n",
       "\n",
       "## Newsletter\n",
       "Visitors can subscribe to the newsletter to receive updates, news, and special offers, promoting ongoing engagement with the community.\n",
       "\n",
       "Overall, Soulful Connections serves as a resource for individuals seeking to deepen their relationships and understand the spiritual aspects of love and connection."
      ],
      "text/plain": [
       "<IPython.core.display.Markdown object>"
      ]
     },
     "metadata": {},
     "output_type": "display_data"
    }
   ],
   "source": [
    "display_summary(\"https://www.zindagipartners.com\")"
   ]
  },
  {
   "cell_type": "markdown",
   "id": "b3bcf6f4-adce-45e9-97ad-d9a5d7a3a624",
   "metadata": {},
   "source": [
    "# Let's try more websites\n",
    "\n",
    "Note that this will only work on websites that can be scraped using this simplistic approach.\n",
    "\n",
    "Websites that are rendered with Javascript, like React apps, won't show up. See the community-contributions folder for a Selenium implementation that gets around this. You'll need to read up on installing Selenium (ask ChatGPT!)\n",
    "\n",
    "Also Websites protected with CloudFront (and similar) may give 403 errors - many thanks Andy J for pointing this out.\n",
    "\n",
    "But many websites will work just fine!"
   ]
  },
  {
   "cell_type": "code",
   "execution_count": null,
   "id": "45d83403-a24c-44b5-84ac-961449b4008f",
   "metadata": {},
   "outputs": [],
   "source": [
    "display_summary(\"https://cnn.com\")"
   ]
  },
  {
   "cell_type": "code",
   "execution_count": null,
   "id": "75e9fd40-b354-4341-991e-863ef2e59db7",
   "metadata": {},
   "outputs": [],
   "source": [
    "display_summary(\"https://anthropic.com\")"
   ]
  },
  {
   "cell_type": "code",
   "execution_count": null,
   "id": "d3e184f5-bdda-42e0-b6ef-6712d8f088e5",
   "metadata": {},
   "outputs": [],
   "source": [
    "<table style=\"margin: 0; text-align: left;\">\n",
    "    <tr>\n",
    "        <td style=\"width: 150px; height: 150px; vertical-align: middle;\">\n",
    "            <img src=\"../business.jpg\" width=\"150\" height=\"150\" style=\"display: block;\" />\n",
    "        </td>\n",
    "        <td>\n",
    "            <h2 style=\"color:#181;\">Business applications</h2>\n",
    "            <span style=\"color:#181;\">In this exercise, you experienced calling the Cloud API of a Frontier Model (a leading model at the frontier of AI) for the first time. We will be using APIs like OpenAI at many stages in the course, in addition to building our own LLMs.\n",
    "\n",
    "More specifically, we've applied this to Summarization - a classic Gen AI use case to make a summary. This can be applied to any business vertical - summarizing the news, summarizing financial performance, summarizing a resume in a cover letter - the applications are limitless. Consider how you could apply Summarization in your business, and try prototyping a solution.</span>\n",
    "        </td>\n",
    "    </tr>\n",
    "</table>\n",
    "\n",
    "<table style=\"margin: 0; text-align: left;\">\n",
    "    <tr>\n",
    "        <td style=\"width: 150px; height: 150px; vertical-align: middle;\">\n",
    "            <img src=\"../important.jpg\" width=\"150\" height=\"150\" style=\"display: block;\" />\n",
    "        </td>\n",
    "        <td>\n",
    "            <h2 style=\"color:#900;\">Before you continue - now try yourself</h2>\n",
    "            <span style=\"color:#900;\">Use the cell below to make your own simple commercial example. Stick with the summarization use case for now. Here's an idea: write something that will take the contents of an email, and will suggest an appropriate short subject line for the email. That's the kind of feature that might be built into a commercial email tool.</span>\n",
    "        </td>\n",
    "    </tr>\n",
    "</table>"
   ]
  },
  {
   "cell_type": "code",
   "execution_count": null,
   "id": "00743dac-0e70-45b7-879a-d7293a6f68a6",
   "metadata": {},
   "outputs": [],
   "source": [
    "# Step 1: Create your prompts\n",
    "\n",
    "system_prompt = \"something here\"\n",
    "user_prompt = \"\"\"\n",
    "    Lots of text\n",
    "    Can be pasted here\n",
    "\"\"\"\n",
    "\n",
    "# Step 2: Make the messages list\n",
    "\n",
    "messages = [] # fill this in\n",
    "\n",
    "# Step 3: Call OpenAI\n",
    "\n",
    "response =\n",
    "\n",
    "# Step 4: print the result\n",
    "\n",
    "print("
   ]
  },
  {
   "cell_type": "markdown",
   "id": "36ed9f14-b349-40e9-a42c-b367e77f8bda",
   "metadata": {},
   "source": [
    "## An extra exercise for those who enjoy web scraping\n",
    "\n",
    "You may notice that if you try `display_summary(\"https://openai.com\")` - it doesn't work! That's because OpenAI has a fancy website that uses Javascript. There are many ways around this that some of you might be familiar with. For example, Selenium is a hugely popular framework that runs a browser behind the scenes, renders the page, and allows you to query it. If you have experience with Selenium, Playwright or similar, then feel free to improve the Website class to use them. In the community-contributions folder, you'll find an example Selenium solution from a student (thank you!)"
   ]
  },
  {
   "cell_type": "markdown",
   "id": "eeab24dc-5f90-4570-b542-b0585aca3eb6",
   "metadata": {},
   "source": [
    "# Sharing your code\n",
    "\n",
    "I'd love it if you share your code afterwards so I can share it with others! You'll notice that some students have already made changes (including a Selenium implementation) which you will find in the community-contributions folder. If you'd like add your changes to that folder, submit a Pull Request with your new versions in that folder and I'll merge your changes.\n",
    "\n",
    "If you're not an expert with git (and I am not!) then GPT has given some nice instructions on how to submit a Pull Request. It's a bit of an involved process, but once you've done it once it's pretty clear. As a pro-tip: it's best if you clear the outputs of your Jupyter notebooks (Edit >> Clean outputs of all cells, and then Save) for clean notebooks.\n",
    "\n",
    "Here are good instructions courtesy of an AI friend:  \n",
    "https://chatgpt.com/share/677a9cb5-c64c-8012-99e0-e06e88afd293"
   ]
  },
  {
   "cell_type": "code",
   "execution_count": null,
   "id": "f4484fcf-8b39-4c3f-9674-37970ed71988",
   "metadata": {},
   "outputs": [],
   "source": []
  }
 ],
 "metadata": {
  "kernelspec": {
   "display_name": "Python 3 (ipykernel)",
   "language": "python",
   "name": "python3"
  },
  "language_info": {
   "codemirror_mode": {
    "name": "ipython",
    "version": 3
   },
   "file_extension": ".py",
   "mimetype": "text/x-python",
   "name": "python",
   "nbconvert_exporter": "python",
   "pygments_lexer": "ipython3",
   "version": "3.11.11"
  }
 },
 "nbformat": 4,
 "nbformat_minor": 5
}
